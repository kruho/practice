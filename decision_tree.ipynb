{
 "cells": [
  {
   "cell_type": "markdown",
   "metadata": {},
   "source": [
    "### ゴルフのデータセットを作る\n",
    "ref. https://ja.wikipedia.org/wiki/%E6%B1%BA%E5%AE%9A%E6%9C%A8"
   ]
  },
  {
   "cell_type": "code",
   "execution_count": 1,
   "metadata": {
    "scrolled": true
   },
   "outputs": [
    {
     "data": {
      "text/html": [
       "<div>\n",
       "<style scoped>\n",
       "    .dataframe tbody tr th:only-of-type {\n",
       "        vertical-align: middle;\n",
       "    }\n",
       "\n",
       "    .dataframe tbody tr th {\n",
       "        vertical-align: top;\n",
       "    }\n",
       "\n",
       "    .dataframe thead tr th {\n",
       "        text-align: left;\n",
       "    }\n",
       "</style>\n",
       "<table border=\"1\" class=\"dataframe\">\n",
       "  <thead>\n",
       "    <tr>\n",
       "      <th></th>\n",
       "      <th>weather</th>\n",
       "      <th>temperature</th>\n",
       "      <th>humidity</th>\n",
       "      <th>wind</th>\n",
       "      <th>golf</th>\n",
       "    </tr>\n",
       "  </thead>\n",
       "  <tbody>\n",
       "    <tr>\n",
       "      <th>0</th>\n",
       "      <td>sunny</td>\n",
       "      <td>29</td>\n",
       "      <td>85</td>\n",
       "      <td>weak</td>\n",
       "      <td>no</td>\n",
       "    </tr>\n",
       "    <tr>\n",
       "      <th>1</th>\n",
       "      <td>sunny</td>\n",
       "      <td>27</td>\n",
       "      <td>90</td>\n",
       "      <td>strong</td>\n",
       "      <td>no</td>\n",
       "    </tr>\n",
       "    <tr>\n",
       "      <th>2</th>\n",
       "      <td>cloudy</td>\n",
       "      <td>28</td>\n",
       "      <td>78</td>\n",
       "      <td>weak</td>\n",
       "      <td>yes</td>\n",
       "    </tr>\n",
       "    <tr>\n",
       "      <th>3</th>\n",
       "      <td>rain</td>\n",
       "      <td>21</td>\n",
       "      <td>96</td>\n",
       "      <td>weak</td>\n",
       "      <td>yes</td>\n",
       "    </tr>\n",
       "    <tr>\n",
       "      <th>4</th>\n",
       "      <td>rain</td>\n",
       "      <td>20</td>\n",
       "      <td>80</td>\n",
       "      <td>weak</td>\n",
       "      <td>yes</td>\n",
       "    </tr>\n",
       "    <tr>\n",
       "      <th>5</th>\n",
       "      <td>rain</td>\n",
       "      <td>18</td>\n",
       "      <td>70</td>\n",
       "      <td>strong</td>\n",
       "      <td>no</td>\n",
       "    </tr>\n",
       "    <tr>\n",
       "      <th>6</th>\n",
       "      <td>cloudy</td>\n",
       "      <td>18</td>\n",
       "      <td>65</td>\n",
       "      <td>strong</td>\n",
       "      <td>yes</td>\n",
       "    </tr>\n",
       "    <tr>\n",
       "      <th>7</th>\n",
       "      <td>sunny</td>\n",
       "      <td>22</td>\n",
       "      <td>95</td>\n",
       "      <td>weak</td>\n",
       "      <td>no</td>\n",
       "    </tr>\n",
       "    <tr>\n",
       "      <th>8</th>\n",
       "      <td>sunny</td>\n",
       "      <td>21</td>\n",
       "      <td>70</td>\n",
       "      <td>weak</td>\n",
       "      <td>yes</td>\n",
       "    </tr>\n",
       "    <tr>\n",
       "      <th>9</th>\n",
       "      <td>rain</td>\n",
       "      <td>24</td>\n",
       "      <td>80</td>\n",
       "      <td>weak</td>\n",
       "      <td>yes</td>\n",
       "    </tr>\n",
       "    <tr>\n",
       "      <th>10</th>\n",
       "      <td>sunny</td>\n",
       "      <td>24</td>\n",
       "      <td>70</td>\n",
       "      <td>strong</td>\n",
       "      <td>yes</td>\n",
       "    </tr>\n",
       "  </tbody>\n",
       "</table>\n",
       "</div>"
      ],
      "text/plain": [
       "   weather temperature humidity    wind golf\n",
       "0    sunny          29       85    weak   no\n",
       "1    sunny          27       90  strong   no\n",
       "2   cloudy          28       78    weak  yes\n",
       "3     rain          21       96    weak  yes\n",
       "4     rain          20       80    weak  yes\n",
       "5     rain          18       70  strong   no\n",
       "6   cloudy          18       65  strong  yes\n",
       "7    sunny          22       95    weak   no\n",
       "8    sunny          21       70    weak  yes\n",
       "9     rain          24       80    weak  yes\n",
       "10   sunny          24       70  strong  yes"
      ]
     },
     "execution_count": 1,
     "metadata": {},
     "output_type": "execute_result"
    }
   ],
   "source": [
    "import pandas as pd\n",
    "import numpy as np\n",
    "\n",
    "columns = [['weather','temperature','humidity','wind','golf']]\n",
    "df = pd.DataFrame(columns=columns)\n",
    "\n",
    "def df_append(df, lists, columns):\n",
    "    for p in lists:\n",
    "        foo = pd.DataFrame(p)\n",
    "        foo.columns = columns\n",
    "        df = df.append(foo)\n",
    "    return df\n",
    "\n",
    "lists = [\n",
    "    [['sunny',29,85,'weak','no']],\n",
    "    [['sunny',27,90,'strong','no']],\n",
    "    [['cloudy',28,78,'weak','yes']],\n",
    "    [['rain',21,96,'weak','yes']],\n",
    "    [['rain',20,80,'weak','yes']],\n",
    "    [['rain',18,70,'strong','no']],\n",
    "    [['cloudy',18,65,'strong','yes']],\n",
    "    [['sunny',22,95,'weak','no']],\n",
    "    [['sunny',21,70,'weak','yes']],\n",
    "    [['rain',24,80,'weak','yes']],\n",
    "    [['sunny',24,70,'strong','yes']],\n",
    "    [['cloudy',22,90,'strong','yes']],\n",
    "    [['cloudy',27,75,'weak','yes']],\n",
    "    [['rain',22,80,'strong','no']],\n",
    "]\n",
    "\n",
    "df = df_append(df, lists, columns).reset_index(drop=True)\n",
    "\n",
    "nb_train = 3\n",
    "df_test = df[-nb_train:]\n",
    "df = df[:-nb_train]\n",
    "df"
   ]
  },
  {
   "cell_type": "code",
   "execution_count": 2,
   "metadata": {},
   "outputs": [
    {
     "data": {
      "text/html": [
       "<div>\n",
       "<style scoped>\n",
       "    .dataframe tbody tr th:only-of-type {\n",
       "        vertical-align: middle;\n",
       "    }\n",
       "\n",
       "    .dataframe tbody tr th {\n",
       "        vertical-align: top;\n",
       "    }\n",
       "\n",
       "    .dataframe thead tr th {\n",
       "        text-align: left;\n",
       "    }\n",
       "</style>\n",
       "<table border=\"1\" class=\"dataframe\">\n",
       "  <thead>\n",
       "    <tr>\n",
       "      <th></th>\n",
       "      <th>weather</th>\n",
       "      <th>temperature</th>\n",
       "      <th>humidity</th>\n",
       "      <th>wind</th>\n",
       "      <th>golf</th>\n",
       "    </tr>\n",
       "  </thead>\n",
       "  <tbody>\n",
       "    <tr>\n",
       "      <th>11</th>\n",
       "      <td>cloudy</td>\n",
       "      <td>22</td>\n",
       "      <td>90</td>\n",
       "      <td>strong</td>\n",
       "      <td>yes</td>\n",
       "    </tr>\n",
       "    <tr>\n",
       "      <th>12</th>\n",
       "      <td>cloudy</td>\n",
       "      <td>27</td>\n",
       "      <td>75</td>\n",
       "      <td>weak</td>\n",
       "      <td>yes</td>\n",
       "    </tr>\n",
       "    <tr>\n",
       "      <th>13</th>\n",
       "      <td>rain</td>\n",
       "      <td>22</td>\n",
       "      <td>80</td>\n",
       "      <td>strong</td>\n",
       "      <td>no</td>\n",
       "    </tr>\n",
       "  </tbody>\n",
       "</table>\n",
       "</div>"
      ],
      "text/plain": [
       "   weather temperature humidity    wind golf\n",
       "11  cloudy          22       90  strong  yes\n",
       "12  cloudy          27       75    weak  yes\n",
       "13    rain          22       80  strong   no"
      ]
     },
     "execution_count": 2,
     "metadata": {},
     "output_type": "execute_result"
    }
   ],
   "source": [
    "df_test"
   ]
  },
  {
   "cell_type": "code",
   "execution_count": 3,
   "metadata": {},
   "outputs": [],
   "source": [
    "if False:\n",
    "    df = df.replace('sunny', 0)\n",
    "    df = df.replace('cloudy', 1)\n",
    "    df = df.replace('rain', 2)\n",
    "    df = df.replace('weak', 0)\n",
    "    df = df.replace('strong', 1)\n",
    "    df = df.replace('no', 0)\n",
    "    df = df.replace('yes', 1)"
   ]
  },
  {
   "cell_type": "markdown",
   "metadata": {},
   "source": [
    "## information gain基準の分割を行う"
   ]
  },
  {
   "cell_type": "markdown",
   "metadata": {},
   "source": [
    "### 風の強さによってデータ分割した場合のinformation gainを計算する"
   ]
  },
  {
   "cell_type": "code",
   "execution_count": 4,
   "metadata": {},
   "outputs": [
    {
     "name": "stdout",
     "output_type": "stream",
     "text": [
      "------------------------------------------------------------------\n",
      "p(golf=yes | wind=weak) = 0.7142857142857143\n",
      "p(golf=no | wind=weak) = 0.2857142857142857\n",
      "h(golf | wind=weak) = 0.8631205685666303\n",
      "------------------------------------------------------------------\n",
      "p(golf=yes | wind=strong) = 0.5\n",
      "p(golf=no | wind=strong) = 0.5\n",
      "h(golf | wind=strong) = 0.9999999999999993\n",
      "------------------------------------------------------------------\n"
     ]
    }
   ],
   "source": [
    "wind = df['wind'].values.flatten()\n",
    "golf = df['golf'].values.flatten()\n",
    "EPS = np.finfo(float).eps\n",
    "\n",
    "print('------------------------------------------------------------------')\n",
    "\n",
    "# 風が弱い場合にゴルフに行く確率\n",
    "p_wind_weak_yes = (golf[wind=='weak']=='yes').sum()/float((wind=='weak').sum())\n",
    "print('p(golf=yes | wind=weak) = '+str(p_wind_weak_yes))\n",
    "\n",
    "# 風が弱い場合にゴルフに行かない確率\n",
    "p_wind_weak_no = 1. - p_wind_weak_yes\n",
    "print('p(golf=no | wind=weak) = '+str(p_wind_weak_no))\n",
    "\n",
    "# 風が弱い場合の条件付きエントロピー\n",
    "entropy_wind_weak = - p_wind_weak_yes * np.log2(p_wind_weak_yes+EPS)\n",
    "entropy_wind_weak += - p_wind_weak_no * np.log2(p_wind_weak_no+EPS)\n",
    "print('h(golf | wind=weak) = '+str(entropy_wind_weak))\n",
    "\n",
    "print('------------------------------------------------------------------')\n",
    "\n",
    "# 風が強い場合にゴルフに行く確率\n",
    "p_wind_strong_yes = (golf[wind=='strong']=='yes').sum()/float((wind=='strong').sum())\n",
    "print('p(golf=yes | wind=strong) = '+str(p_wind_strong_yes))\n",
    "\n",
    "# 風が強い場合にゴルフに行かない確率\n",
    "p_wind_strong_no = 1. - p_wind_strong_yes\n",
    "print('p(golf=no | wind=strong) = '+str(p_wind_strong_no))\n",
    "\n",
    "# 風が強い場合の条件付きエントロピー\n",
    "entropy_wind_strong = - p_wind_strong_yes * np.log2(p_wind_strong_yes+EPS)\n",
    "entropy_wind_strong += - p_wind_strong_no * np.log2(p_wind_strong_no+EPS)\n",
    "print('h(golf | wind=strong) = '+str(entropy_wind_strong))\n",
    "\n",
    "print('------------------------------------------------------------------')"
   ]
  },
  {
   "cell_type": "code",
   "execution_count": 5,
   "metadata": {},
   "outputs": [
    {
     "name": "stdout",
     "output_type": "stream",
     "text": [
      "------------------------------------------------------------------\n",
      "p(wind=weak) = 0.6363636363636364\n",
      "p(wind=strong) = 0.36363636363636365\n",
      "E_wind[h(golf | wind)] = 0.9128949072696736\n",
      "------------------------------------------------------------------\n",
      "p(golf=yes) = 0.6363636363636364\n",
      "p(golf=no) = 0.36363636363636365\n",
      "h(golf) = 0.9456603046006395\n",
      "------------------------------------------------------------------\n",
      "IG(wind) = 0.03276539733096595\n",
      "------------------------------------------------------------------\n"
     ]
    }
   ],
   "source": [
    "print('------------------------------------------------------------------')\n",
    "\n",
    "# 風が弱い確率\n",
    "p_wind_weak = (wind=='weak').sum()/float(len(wind))\n",
    "print('p(wind=weak) = '+str(p_wind_weak))\n",
    "\n",
    "# 風が強い確率\n",
    "p_wind_strong = 1. - p_wind_weak\n",
    "print('p(wind=strong) = '+str(p_wind_strong))\n",
    "\n",
    "# 風の有無の条件付きエントロピーの期待値\n",
    "expected_entropy_wind = p_wind_weak * entropy_wind_weak + p_wind_strong * entropy_wind_strong\n",
    "print('E_wind[h(golf | wind)] = '+str(expected_entropy_wind))\n",
    "\n",
    "print('------------------------------------------------------------------')\n",
    "# ゴルフに行く人の割合\n",
    "p_golf_yes = (golf=='yes').sum()/float(len(golf))\n",
    "print('p(golf=yes) = '+str(p_golf_yes))\n",
    "\n",
    "# ゴルフに行かない人の割合\n",
    "p_golf_no = 1. - p_golf_yes\n",
    "print('p(golf=no) = '+str(p_golf_no))\n",
    "\n",
    "# 無条件のエントロピー\n",
    "entropy = - p_golf_yes * np.log2(p_golf_yes+EPS) - p_golf_no * np.log2(p_golf_no+EPS)\n",
    "print('h(golf) = '+str(entropy))\n",
    "\n",
    "print('------------------------------------------------------------------')\n",
    "\n",
    "# Information Gain\n",
    "IG_wind = entropy - expected_entropy_wind\n",
    "print('IG(wind) = '+str(IG_wind))\n",
    "\n",
    "print('------------------------------------------------------------------')\n"
   ]
  },
  {
   "cell_type": "markdown",
   "metadata": {},
   "source": [
    "### 特徴量が0/1の２値の場合のinformation gainをモジュール化する"
   ]
  },
  {
   "cell_type": "code",
   "execution_count": 6,
   "metadata": {},
   "outputs": [],
   "source": [
    "def calc_ig(x,y):\n",
    "\n",
    "    EPS = np.finfo(float).eps\n",
    "    \n",
    "    p_y1_x0 = (y[x==0]==1).sum()/float((x==0).sum())\n",
    "    p_y0_x0 = 1. - p_y1_x0\n",
    "    entropy_y_x0 = - p_y1_x0 * np.log2(p_y1_x0+EPS) - p_y0_x0 * np.log2(p_y0_x0+EPS)\n",
    "    \n",
    "    p_y1_x1 = (y[x==1]==1).sum()/float((x==1).sum())\n",
    "    p_y0_x1 = 1. - p_y1_x1\n",
    "    entropy_y_x1 = - p_y1_x1 * np.log2(p_y1_x1+EPS) - p_y0_x1 * np.log2(p_y0_x1+EPS)\n",
    "\n",
    "    p_x0 = (x==0).sum()/float(len(x))\n",
    "    p_x1 = 1. - p_x0\n",
    "    expected_entropy_y_x = p_x0 * entropy_y_x0 + p_x1 * entropy_y_x1\n",
    "\n",
    "    p_y0 = (y==0).sum()/float(len(y))\n",
    "    p_y1 = 1. - p_y0\n",
    "    entropy = - p_y0 * np.log2(p_y0+EPS) - p_y1 * np.log2(p_y1+EPS)\n",
    "\n",
    "    IG_y_x = entropy - expected_entropy_y_x\n",
    "    \n",
    "    return IG_y_x"
   ]
  },
  {
   "cell_type": "code",
   "execution_count": 7,
   "metadata": {},
   "outputs": [
    {
     "data": {
      "text/plain": [
       "0.03276539733096595"
      ]
     },
     "execution_count": 7,
     "metadata": {},
     "output_type": "execute_result"
    }
   ],
   "source": [
    "import copy\n",
    "\n",
    "wind_01 = copy.deepcopy(wind)\n",
    "golf_01 = copy.deepcopy(golf)\n",
    "\n",
    "np.place(wind_01, wind_01=='weak', 0)\n",
    "np.place(wind_01, wind_01=='strong', 1)\n",
    "np.place(golf_01, golf_01=='no', 0)\n",
    "np.place(golf_01, golf_01=='yes', 1)\n",
    "\n",
    "ig_wind = calc_ig(x=wind_01, y=golf_01)\n",
    "ig_wind"
   ]
  },
  {
   "cell_type": "markdown",
   "metadata": {},
   "source": [
    "### 特徴量が連続量の場合（まずは温度）のinformation gainを計算する"
   ]
  },
  {
   "cell_type": "markdown",
   "metadata": {},
   "source": [
    "特徴量の値によってデータに0/1のラベルをつける。  \n",
    "例) 湿度50%以上に1、50%未満に0をつける。  \n",
    "閾値は中央値を使う。せっかくなのでデータを特徴量の値でソートして閾値を徐々に変えながらIGを計算する。  "
   ]
  },
  {
   "cell_type": "code",
   "execution_count": 8,
   "metadata": {},
   "outputs": [
    {
     "name": "stdout",
     "output_type": "stream",
     "text": [
      "threshold=19.0  IG=0.012509167646967079\n",
      "threshold=20.5  IG=0.0010821659130775263\n",
      "threshold=21.5  IG=0.07205662510638466\n",
      "threshold=23.0  IG=0.003430488546069199\n",
      "threshold=25.5  IG=0.1051955320700465\n",
      "threshold=27.5  IG=0.012509167646966968\n",
      "threshold=28.5  IG=0.144486759845465\n",
      "------------------------------------------------------------------\n",
      "max(IG)=0.144486759845465  threshold=28.5\n"
     ]
    }
   ],
   "source": [
    "import copy\n",
    "\n",
    "temp = df['temperature'].values.astype(np.float32).flatten()\n",
    "\n",
    "ig_temp_max = -1e10\n",
    "temp_sorted = list(set(temp))\n",
    "\n",
    "def replace(lst, thresh, foo=99999):\n",
    "    np.place(lst, lst>=thresh, foo)\n",
    "    np.place(lst, lst!=foo, 0)\n",
    "    np.place(lst, lst==foo, 1)\n",
    "    return lst\n",
    "\n",
    "for i in range(len(temp_sorted)-1):\n",
    "    thresh = (temp_sorted[i] + temp_sorted[i+1]) * 0.5\n",
    "    temp_01 = replace(copy.deepcopy(temp), thresh)\n",
    "\n",
    "    ig_temp = calc_ig(x=temp_01, y=golf_01)\n",
    "    if ig_temp>ig_temp_max:\n",
    "        ig_temp_max = ig_temp\n",
    "        thresh_temp = thresh\n",
    "\n",
    "    print('threshold='+str(thresh)+'  IG='+str(ig_temp))\n",
    "\n",
    "\n",
    "print('------------------------------------------------------------------')\n",
    "\n",
    "print('max(IG)='+str(ig_temp_max)+'  threshold=' +  str(thresh))"
   ]
  },
  {
   "cell_type": "markdown",
   "metadata": {},
   "source": [
    "28.5℃を閾値にするとIGが最も大きくなるが、そもそも29℃のデータが1点しかないので、おそらくオーバーフィットする。なので、やはり閾値には中央値（厳密に言うと、中央値とその隣の値の平均値）を使うことにする。"
   ]
  },
  {
   "cell_type": "code",
   "execution_count": 9,
   "metadata": {},
   "outputs": [
    {
     "name": "stdout",
     "output_type": "stream",
     "text": [
      "threshold=23.0  IG=0.003430488546069199\n"
     ]
    }
   ],
   "source": [
    "def median(x):\n",
    "    s = list(set(sorted(x)))\n",
    "    return 0.5 * (s[len(s)//2-1] + s[len(s)//2])\n",
    "\n",
    "thresh_temp = median(temp)\n",
    "\n",
    "temp_01 = replace(copy.deepcopy(temp), thresh_temp)\n",
    "\n",
    "ig_temp = calc_ig(x=temp_01, y=golf_01)\n",
    "\n",
    "print('threshold='+str(thresh_temp)+'  IG='+str(ig_temp))\n"
   ]
  },
  {
   "cell_type": "markdown",
   "metadata": {},
   "source": [
    "### 湿度のIGも温度のIGと同じように計算する"
   ]
  },
  {
   "cell_type": "code",
   "execution_count": 10,
   "metadata": {},
   "outputs": [
    {
     "name": "stdout",
     "output_type": "stream",
     "text": [
      "threshold=79.0  IG=0.07205662510638466\n"
     ]
    }
   ],
   "source": [
    "hum = df['humidity'].values.astype(np.float32).flatten()\n",
    "\n",
    "thresh_hum = median(hum)\n",
    "\n",
    "hum_01 = replace(copy.deepcopy(hum), thresh_hum)\n",
    "\n",
    "ig_hum = calc_ig(x=hum_01, y=golf_01)\n",
    "\n",
    "print('threshold='+str(thresh_hum)+'  IG='+str(ig_hum))\n"
   ]
  },
  {
   "cell_type": "markdown",
   "metadata": {},
   "source": [
    "### 天気は3通りあるので、３クラス分類になる。"
   ]
  },
  {
   "cell_type": "code",
   "execution_count": 11,
   "metadata": {},
   "outputs": [],
   "source": [
    "def calc_ig_general(x, y, nb_classes=2):\n",
    "\n",
    "    EPS = np.finfo(float).eps\n",
    "\n",
    "    entropy_y_xk = []\n",
    "    p_xk = []\n",
    "    p_yk = []\n",
    "    for k in range(nb_classes):\n",
    "        p_y1_xk = (y[x==k]==1).sum()/float((x==k).sum())\n",
    "        p_y0_xk = 1. - p_y1_xk\n",
    "        entropy_y_xk.append(- p_y1_xk * np.log2(p_y1_xk+EPS) - p_y0_xk * np.log2(p_y0_xk+EPS))\n",
    "        p_xk.append((x==k).sum()/float(len(x)))\n",
    "        p_yk.append((y==k).sum()/float(len(y)))\n",
    "    entropy_y_xk = np.array(entropy_y_xk)\n",
    "    p_xk = np.array(p_xk)\n",
    "    p_yk = np.array(p_yk)\n",
    "\n",
    "    expected_entropy_y_x = (p_xk * entropy_y_xk).sum()\n",
    "    entropy = (- p_yk * np.log2(p_yk+EPS)).sum()\n",
    "\n",
    "    IG_y_x = entropy - expected_entropy_y_x\n",
    "    \n",
    "    return IG_y_x"
   ]
  },
  {
   "cell_type": "code",
   "execution_count": 12,
   "metadata": {},
   "outputs": [
    {
     "name": "stdout",
     "output_type": "stream",
     "text": [
      "IG(weather)=0.5043191253030632\n",
      "{'cloudy': 0, 'sunny': 1, 'rain': 2}\n"
     ]
    }
   ],
   "source": [
    "weather = df['weather'].values.flatten()\n",
    "\n",
    "def binalize(x):\n",
    "    classes = list(set(x.tolist()))\n",
    "    nb_classes = len(classes)\n",
    "    corresp = {}\n",
    "    for i,c in enumerate(classes):\n",
    "        corresp.update({c:i})\n",
    "        np.place(x, x==c, i)\n",
    "    return nb_classes, corresp\n",
    "        \n",
    "nb_classes, corresp = binalize(weather)\n",
    "\n",
    "ig_weather = calc_ig_general(x=weather, y=golf_01)\n",
    "\n",
    "print('IG(weather)='+str(ig_weather))\n",
    "print(corresp)"
   ]
  },
  {
   "cell_type": "markdown",
   "metadata": {},
   "source": [
    "### information grainの一覧"
   ]
  },
  {
   "cell_type": "code",
   "execution_count": 13,
   "metadata": {},
   "outputs": [
    {
     "name": "stdout",
     "output_type": "stream",
     "text": [
      "IG(weather)=0.5043191253030632\n",
      "IG(temperature)=0.003430488546069199\n",
      "IG(humidity)=0.07205662510638466\n",
      "IG(wind)=0.03276539733096595\n"
     ]
    }
   ],
   "source": [
    "print('IG(weather)='+str(ig_weather))\n",
    "print('IG(temperature)='+str(ig_temp))\n",
    "print('IG(humidity)='+str(ig_hum))\n",
    "print('IG(wind)='+str(ig_wind))\n",
    "\n",
    "# weatherが最もIGが大きいので、最初の分岐はweatherにする。"
   ]
  },
  {
   "cell_type": "markdown",
   "metadata": {},
   "source": [
    "### weatherで分割したそれぞれの葉で再度IGを計算する"
   ]
  },
  {
   "cell_type": "code",
   "execution_count": 14,
   "metadata": {},
   "outputs": [],
   "source": [
    "sunny = df[(df['weather']=='sunny').values]\n",
    "cloudy = df[(df['weather']=='cloudy').values]\n",
    "rain = df[(df['weather']=='rain').values]"
   ]
  },
  {
   "cell_type": "markdown",
   "metadata": {},
   "source": [
    "### まずは晴れ(sunny)を分割する"
   ]
  },
  {
   "cell_type": "code",
   "execution_count": 15,
   "metadata": {},
   "outputs": [
    {
     "data": {
      "text/html": [
       "<div>\n",
       "<style scoped>\n",
       "    .dataframe tbody tr th:only-of-type {\n",
       "        vertical-align: middle;\n",
       "    }\n",
       "\n",
       "    .dataframe tbody tr th {\n",
       "        vertical-align: top;\n",
       "    }\n",
       "\n",
       "    .dataframe thead tr th {\n",
       "        text-align: left;\n",
       "    }\n",
       "</style>\n",
       "<table border=\"1\" class=\"dataframe\">\n",
       "  <thead>\n",
       "    <tr>\n",
       "      <th></th>\n",
       "      <th>weather</th>\n",
       "      <th>temperature</th>\n",
       "      <th>humidity</th>\n",
       "      <th>wind</th>\n",
       "      <th>golf</th>\n",
       "    </tr>\n",
       "  </thead>\n",
       "  <tbody>\n",
       "    <tr>\n",
       "      <th>0</th>\n",
       "      <td>sunny</td>\n",
       "      <td>29</td>\n",
       "      <td>85</td>\n",
       "      <td>weak</td>\n",
       "      <td>no</td>\n",
       "    </tr>\n",
       "    <tr>\n",
       "      <th>1</th>\n",
       "      <td>sunny</td>\n",
       "      <td>27</td>\n",
       "      <td>90</td>\n",
       "      <td>strong</td>\n",
       "      <td>no</td>\n",
       "    </tr>\n",
       "    <tr>\n",
       "      <th>7</th>\n",
       "      <td>sunny</td>\n",
       "      <td>22</td>\n",
       "      <td>95</td>\n",
       "      <td>weak</td>\n",
       "      <td>no</td>\n",
       "    </tr>\n",
       "    <tr>\n",
       "      <th>8</th>\n",
       "      <td>sunny</td>\n",
       "      <td>21</td>\n",
       "      <td>70</td>\n",
       "      <td>weak</td>\n",
       "      <td>yes</td>\n",
       "    </tr>\n",
       "    <tr>\n",
       "      <th>10</th>\n",
       "      <td>sunny</td>\n",
       "      <td>24</td>\n",
       "      <td>70</td>\n",
       "      <td>strong</td>\n",
       "      <td>yes</td>\n",
       "    </tr>\n",
       "  </tbody>\n",
       "</table>\n",
       "</div>"
      ],
      "text/plain": [
       "   weather temperature humidity    wind golf\n",
       "0    sunny          29       85    weak   no\n",
       "1    sunny          27       90  strong   no\n",
       "7    sunny          22       95    weak   no\n",
       "8    sunny          21       70    weak  yes\n",
       "10   sunny          24       70  strong  yes"
      ]
     },
     "execution_count": 15,
     "metadata": {},
     "output_type": "execute_result"
    }
   ],
   "source": [
    "sunny"
   ]
  },
  {
   "cell_type": "code",
   "execution_count": 16,
   "metadata": {},
   "outputs": [
    {
     "name": "stdout",
     "output_type": "stream",
     "text": [
      "IG(temperature | sunny)=0.17095059445466865  thresh=28.0\n",
      "IG(humidity | sunny)=0.9709505944546684  thresh=77.5\n",
      "IG(wind | sunny)=-0.5287712379549446\n"
     ]
    }
   ],
   "source": [
    "sunny_golf = sunny['golf'].values.flatten()\n",
    "_, _ = binalize(sunny_golf)\n",
    "\n",
    "# temperature\n",
    "sunny_temp = sunny['temperature'].values.astype(np.float32).flatten()\n",
    "thresh_sunny_temp = median(sunny_temp)\n",
    "sunny_temp = replace(sunny_temp, thresh_sunny_temp)\n",
    "ig_sunny_temp = calc_ig(x=sunny_temp, y=sunny_golf)\n",
    "\n",
    "# humidity\n",
    "sunny_hum = sunny['humidity'].values.astype(np.float32).flatten()\n",
    "thresh_sunny_hum = median(sunny_hum)\n",
    "sunny_hum = replace(sunny_hum, thresh_sunny_hum)\n",
    "ig_sunny_hum = calc_ig(x=sunny_hum, y=sunny_golf)\n",
    "\n",
    "# wind\n",
    "sunny_wind = sunny['weather'].values.flatten()\n",
    "nb_classes, _ = binalize(sunny_wind)\n",
    "ig_sunny_wind = calc_ig_general(sunny_wind, sunny_golf, nb_classes)\n",
    "\n",
    "print('IG(temperature | sunny)='+str(ig_sunny_temp)+'  thresh='+str(thresh_sunny_temp))\n",
    "print('IG(humidity | sunny)='+str(ig_sunny_hum)+'  thresh='+str(thresh_sunny_hum))\n",
    "print('IG(wind | sunny)='+str(ig_sunny_wind))\n",
    "\n",
    "# sunnyの葉ではhumidityが最もIGが大きいので、次の分岐はhumidityにする。"
   ]
  },
  {
   "cell_type": "markdown",
   "metadata": {},
   "source": [
    "### 曇りを分割する"
   ]
  },
  {
   "cell_type": "code",
   "execution_count": 17,
   "metadata": {},
   "outputs": [
    {
     "data": {
      "text/html": [
       "<div>\n",
       "<style scoped>\n",
       "    .dataframe tbody tr th:only-of-type {\n",
       "        vertical-align: middle;\n",
       "    }\n",
       "\n",
       "    .dataframe tbody tr th {\n",
       "        vertical-align: top;\n",
       "    }\n",
       "\n",
       "    .dataframe thead tr th {\n",
       "        text-align: left;\n",
       "    }\n",
       "</style>\n",
       "<table border=\"1\" class=\"dataframe\">\n",
       "  <thead>\n",
       "    <tr>\n",
       "      <th></th>\n",
       "      <th>weather</th>\n",
       "      <th>temperature</th>\n",
       "      <th>humidity</th>\n",
       "      <th>wind</th>\n",
       "      <th>golf</th>\n",
       "    </tr>\n",
       "  </thead>\n",
       "  <tbody>\n",
       "    <tr>\n",
       "      <th>2</th>\n",
       "      <td>cloudy</td>\n",
       "      <td>28</td>\n",
       "      <td>78</td>\n",
       "      <td>weak</td>\n",
       "      <td>yes</td>\n",
       "    </tr>\n",
       "    <tr>\n",
       "      <th>6</th>\n",
       "      <td>cloudy</td>\n",
       "      <td>18</td>\n",
       "      <td>65</td>\n",
       "      <td>strong</td>\n",
       "      <td>yes</td>\n",
       "    </tr>\n",
       "  </tbody>\n",
       "</table>\n",
       "</div>"
      ],
      "text/plain": [
       "  weather temperature humidity    wind golf\n",
       "2  cloudy          28       78    weak  yes\n",
       "6  cloudy          18       65  strong  yes"
      ]
     },
     "execution_count": 17,
     "metadata": {},
     "output_type": "execute_result"
    }
   ],
   "source": [
    "cloudy"
   ]
  },
  {
   "cell_type": "code",
   "execution_count": 18,
   "metadata": {},
   "outputs": [
    {
     "name": "stdout",
     "output_type": "stream",
     "text": [
      "IG(temperature | cloudy)=0.0  thresh=23.0\n",
      "IG(humidity | cloudy)=0.0  thresh=71.5\n",
      "IG(wind | cloudy)=0.0\n"
     ]
    }
   ],
   "source": [
    "cloudy_golf = cloudy['golf'].values.flatten()\n",
    "_, _ = binalize(cloudy_golf)\n",
    "\n",
    "# temperature\n",
    "cloudy_temp = cloudy['temperature'].values.astype(np.float32).flatten()\n",
    "thresh_cloudy_temp = median(cloudy_temp)\n",
    "cloudy_temp = replace(cloudy_temp, thresh_cloudy_temp)\n",
    "ig_cloudy_temp = calc_ig(x=cloudy_temp, y=cloudy_golf)\n",
    "\n",
    "# humidity\n",
    "cloudy_hum = cloudy['humidity'].values.astype(np.float32).flatten()\n",
    "thresh_cloudy_hum = median(cloudy_hum)\n",
    "cloudy_hum = replace(cloudy_hum, thresh_cloudy_hum)\n",
    "ig_cloudy_hum = calc_ig(x=cloudy_hum, y=cloudy_golf)\n",
    "\n",
    "# wind\n",
    "cloudy_wind = cloudy['wind'].values.flatten()\n",
    "nb_classes, _ = binalize(cloudy_wind)\n",
    "ig_cloudy_wind = calc_ig_general(cloudy_wind, cloudy_golf, nb_classes)\n",
    "\n",
    "print('IG(temperature | cloudy)='+str(ig_cloudy_temp)+'  thresh='+str(thresh_cloudy_temp))\n",
    "print('IG(humidity | cloudy)='+str(ig_cloudy_hum)+'  thresh='+str(thresh_cloudy_hum))\n",
    "print('IG(wind | cloudy)='+str(ig_cloudy_wind))\n",
    "\n",
    "# cloudyの葉はどちらもゴルフに行くので、どう分割してもIGは0"
   ]
  },
  {
   "cell_type": "markdown",
   "metadata": {},
   "source": [
    "### 雨を分割する"
   ]
  },
  {
   "cell_type": "code",
   "execution_count": 19,
   "metadata": {},
   "outputs": [
    {
     "data": {
      "text/html": [
       "<div>\n",
       "<style scoped>\n",
       "    .dataframe tbody tr th:only-of-type {\n",
       "        vertical-align: middle;\n",
       "    }\n",
       "\n",
       "    .dataframe tbody tr th {\n",
       "        vertical-align: top;\n",
       "    }\n",
       "\n",
       "    .dataframe thead tr th {\n",
       "        text-align: left;\n",
       "    }\n",
       "</style>\n",
       "<table border=\"1\" class=\"dataframe\">\n",
       "  <thead>\n",
       "    <tr>\n",
       "      <th></th>\n",
       "      <th>weather</th>\n",
       "      <th>temperature</th>\n",
       "      <th>humidity</th>\n",
       "      <th>wind</th>\n",
       "      <th>golf</th>\n",
       "    </tr>\n",
       "  </thead>\n",
       "  <tbody>\n",
       "    <tr>\n",
       "      <th>3</th>\n",
       "      <td>rain</td>\n",
       "      <td>21</td>\n",
       "      <td>96</td>\n",
       "      <td>weak</td>\n",
       "      <td>yes</td>\n",
       "    </tr>\n",
       "    <tr>\n",
       "      <th>4</th>\n",
       "      <td>rain</td>\n",
       "      <td>20</td>\n",
       "      <td>80</td>\n",
       "      <td>weak</td>\n",
       "      <td>yes</td>\n",
       "    </tr>\n",
       "    <tr>\n",
       "      <th>5</th>\n",
       "      <td>rain</td>\n",
       "      <td>18</td>\n",
       "      <td>70</td>\n",
       "      <td>strong</td>\n",
       "      <td>no</td>\n",
       "    </tr>\n",
       "    <tr>\n",
       "      <th>9</th>\n",
       "      <td>rain</td>\n",
       "      <td>24</td>\n",
       "      <td>80</td>\n",
       "      <td>weak</td>\n",
       "      <td>yes</td>\n",
       "    </tr>\n",
       "  </tbody>\n",
       "</table>\n",
       "</div>"
      ],
      "text/plain": [
       "  weather temperature humidity    wind golf\n",
       "3    rain          21       96    weak  yes\n",
       "4    rain          20       80    weak  yes\n",
       "5    rain          18       70  strong   no\n",
       "9    rain          24       80    weak  yes"
      ]
     },
     "execution_count": 19,
     "metadata": {},
     "output_type": "execute_result"
    }
   ],
   "source": [
    "rain"
   ]
  },
  {
   "cell_type": "code",
   "execution_count": 20,
   "metadata": {},
   "outputs": [
    {
     "name": "stdout",
     "output_type": "stream",
     "text": [
      "IG(temperature | rain)=0.8112781244591325  thresh=19.0\n",
      "IG(humidity | rain)=0.12255624891826566  thresh=88.0\n",
      "IG(wind | rain)=0.8112781244591325\n"
     ]
    }
   ],
   "source": [
    "rain_golf = rain['golf'].values.flatten()\n",
    "_, _ = binalize(rain_golf)\n",
    "\n",
    "# temperature\n",
    "rain_temp = rain['temperature'].values.astype(np.float32).flatten()\n",
    "thresh_rain_temp = median(rain_temp)\n",
    "rain_temp = replace(rain_temp, thresh_rain_temp)\n",
    "ig_rain_temp = calc_ig(x=rain_temp, y=rain_golf)\n",
    "\n",
    "# humidity\n",
    "rain_hum = rain['humidity'].values.astype(np.float32).flatten()\n",
    "thresh_rain_hum = median(rain_hum)\n",
    "rain_hum = replace(rain_hum, thresh_rain_hum)\n",
    "ig_rain_hum = calc_ig(x=rain_hum, y=rain_golf)\n",
    "\n",
    "# wind\n",
    "rain_wind = rain['wind'].values.flatten()\n",
    "nb_classes, _ = binalize(rain_wind)\n",
    "ig_rain_wind = calc_ig_general(rain_wind, rain_golf, nb_classes)\n",
    "\n",
    "print('IG(temperature | rain)='+str(ig_rain_temp)+'  thresh='+str(thresh_rain_temp))\n",
    "print('IG(humidity | rain)='+str(ig_rain_hum)+'  thresh='+str(thresh_rain_hum))\n",
    "print('IG(wind | rain)='+str(ig_rain_wind))\n",
    "\n",
    "# rainの葉ではtemperatureとwindが同率で最もIGが大きいので、\n",
    "# 次の分岐はtemperatureまたはwindにする"
   ]
  },
  {
   "cell_type": "markdown",
   "metadata": {},
   "source": [
    "### 木の確認\n",
    "- まずは天気で分類\n",
    "  - 晴れの場合: \n",
    "    - 湿度が77.5%未満の場合: ゴルフに行く\n",
    "    - 湿度が77.5%以上の場合: ゴルフに行かない\n",
    "  - 曇りの場合:\n",
    "    - ゴルフに行く\n",
    "  - 雨の場合:\n",
    "    1. 温度分割\n",
    "      - 温度が19℃以上の場合: ゴルフに行く\n",
    "      - 温度が19℃未満の場合: ゴルフに行かない\n",
    "    2. 風分割\n",
    "      - 風が弱い場合: ゴルフに行く\n",
    "      - 風が強い場合: ゴルフに行かない"
   ]
  },
  {
   "cell_type": "markdown",
   "metadata": {},
   "source": [
    "### テスト"
   ]
  },
  {
   "cell_type": "code",
   "execution_count": 21,
   "metadata": {},
   "outputs": [
    {
     "data": {
      "text/html": [
       "<div>\n",
       "<style scoped>\n",
       "    .dataframe tbody tr th:only-of-type {\n",
       "        vertical-align: middle;\n",
       "    }\n",
       "\n",
       "    .dataframe tbody tr th {\n",
       "        vertical-align: top;\n",
       "    }\n",
       "\n",
       "    .dataframe thead tr th {\n",
       "        text-align: left;\n",
       "    }\n",
       "</style>\n",
       "<table border=\"1\" class=\"dataframe\">\n",
       "  <thead>\n",
       "    <tr>\n",
       "      <th></th>\n",
       "      <th>weather</th>\n",
       "      <th>temperature</th>\n",
       "      <th>humidity</th>\n",
       "      <th>wind</th>\n",
       "      <th>golf</th>\n",
       "    </tr>\n",
       "  </thead>\n",
       "  <tbody>\n",
       "    <tr>\n",
       "      <th>11</th>\n",
       "      <td>cloudy</td>\n",
       "      <td>22</td>\n",
       "      <td>90</td>\n",
       "      <td>strong</td>\n",
       "      <td>yes</td>\n",
       "    </tr>\n",
       "    <tr>\n",
       "      <th>12</th>\n",
       "      <td>cloudy</td>\n",
       "      <td>27</td>\n",
       "      <td>75</td>\n",
       "      <td>weak</td>\n",
       "      <td>yes</td>\n",
       "    </tr>\n",
       "    <tr>\n",
       "      <th>13</th>\n",
       "      <td>rain</td>\n",
       "      <td>22</td>\n",
       "      <td>80</td>\n",
       "      <td>strong</td>\n",
       "      <td>no</td>\n",
       "    </tr>\n",
       "  </tbody>\n",
       "</table>\n",
       "</div>"
      ],
      "text/plain": [
       "   weather temperature humidity    wind golf\n",
       "11  cloudy          22       90  strong  yes\n",
       "12  cloudy          27       75    weak  yes\n",
       "13    rain          22       80  strong   no"
      ]
     },
     "execution_count": 21,
     "metadata": {},
     "output_type": "execute_result"
    }
   ],
   "source": [
    "df_test"
   ]
  },
  {
   "cell_type": "code",
   "execution_count": 22,
   "metadata": {},
   "outputs": [
    {
     "name": "stdout",
     "output_type": "stream",
     "text": [
      "['pred: yes   true: yes']\n",
      "['pred: yes   true: yes']\n",
      "['pred: yes   true: no']\n"
     ]
    }
   ],
   "source": [
    "mode = 'rain_temp'\n",
    "#mode = 'rain_wind'\n",
    "\n",
    "for _,d in df_test.iterrows():\n",
    "    if d['weather'].values=='sunny':\n",
    "        if d['humidity'].values<77.5:\n",
    "            pred = 'yes'\n",
    "        else:\n",
    "            pred = 'no'\n",
    "    elif d['weather'].values=='cloudy':\n",
    "        pred = 'yes'\n",
    "    elif d['weather'].values=='rain':\n",
    "        if mode=='rain_temp':\n",
    "            if d['temperature'].values>=19.:\n",
    "                pred = 'yes'\n",
    "            else:\n",
    "                pred = 'no'\n",
    "        elif mode=='rain_wind':\n",
    "            if d['wind'].values=='weak':\n",
    "                pred = 'yes'\n",
    "            else:\n",
    "                pred = 'no'\n",
    "    print('pred: '+pred+'   true: '+d['golf'].values)\n",
    "        "
   ]
  },
  {
   "cell_type": "code",
   "execution_count": null,
   "metadata": {},
   "outputs": [],
   "source": []
  }
 ],
 "metadata": {
  "kernelspec": {
   "display_name": "Python [conda env:dl35]",
   "language": "python",
   "name": "conda-env-dl35-py"
  },
  "language_info": {
   "codemirror_mode": {
    "name": "ipython",
    "version": 3
   },
   "file_extension": ".py",
   "mimetype": "text/x-python",
   "name": "python",
   "nbconvert_exporter": "python",
   "pygments_lexer": "ipython3",
   "version": "3.5.4"
  }
 },
 "nbformat": 4,
 "nbformat_minor": 2
}
